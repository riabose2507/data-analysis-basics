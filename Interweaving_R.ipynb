{
  "nbformat": 4,
  "nbformat_minor": 0,
  "metadata": {
    "colab": {
      "name": "Interweaving R.ipynb",
      "provenance": [],
      "authorship_tag": "ABX9TyMrXNH4T8VkxQ+WnIhILs2N",
      "include_colab_link": true
    },
    "kernelspec": {
      "name": "python3",
      "display_name": "Python 3"
    },
    "language_info": {
      "name": "python"
    }
  },
  "cells": [
    {
      "cell_type": "markdown",
      "metadata": {
        "id": "view-in-github",
        "colab_type": "text"
      },
      "source": [
        "<a href=\"https://colab.research.google.com/github/riabose2507/data-analysis-basics/blob/main/Interweaving_R.ipynb\" target=\"_parent\"><img src=\"https://colab.research.google.com/assets/colab-badge.svg\" alt=\"Open In Colab\"/></a>"
      ]
    },
    {
      "cell_type": "code",
      "metadata": {
        "id": "VcC9KpUftAl5"
      },
      "source": [
        "%load_ext rpy2.ipython"
      ],
      "execution_count": 1,
      "outputs": []
    },
    {
      "cell_type": "code",
      "metadata": {
        "id": "ZCrJPN5qtG8K"
      },
      "source": [
        "var_set_in_python = \"Set this variable in python\""
      ],
      "execution_count": 4,
      "outputs": []
    },
    {
      "cell_type": "code",
      "metadata": {
        "colab": {
          "base_uri": "https://localhost:8080/"
        },
        "id": "c3QPdDOztMah",
        "outputId": "b9b4f54b-a2af-4a62-e4fa-33edfa0ece08"
      },
      "source": [
        "%%R\n",
        "var_set_in_R = \"Set in variable in R\"\n",
        "cat(\"Displaying from R: \",var_set_in_R)"
      ],
      "execution_count": 40,
      "outputs": [
        {
          "output_type": "stream",
          "text": [
            "Displaying from R:  Set in variable in R"
          ],
          "name": "stdout"
        }
      ]
    },
    {
      "cell_type": "code",
      "metadata": {
        "colab": {
          "base_uri": "https://localhost:8080/"
        },
        "id": "M9KK9FqPtQ7v",
        "outputId": "e9eefe3f-d6b5-4350-e043-b8a2c092385f"
      },
      "source": [
        "%%R\n",
        "cat(\"Displaying from R: \",var_set_in_python)"
      ],
      "execution_count": 29,
      "outputs": [
        {
          "output_type": "stream",
          "text": [
            "Displaying from R:  Set this variable in python"
          ],
          "name": "stdout"
        }
      ]
    },
    {
      "cell_type": "code",
      "metadata": {
        "id": "6MJfnPCDtW1s"
      },
      "source": [
        "%Rpush var_set_in_python"
      ],
      "execution_count": 12,
      "outputs": []
    },
    {
      "cell_type": "code",
      "metadata": {
        "colab": {
          "base_uri": "https://localhost:8080/"
        },
        "id": "eS4BO8jpt7Oa",
        "outputId": "b51312de-951f-4cf8-cbab-a3a2bf50f03b"
      },
      "source": [
        "%%R\n",
        "cat(\"Displaying from R: \",var_set_in_python)"
      ],
      "execution_count": 13,
      "outputs": [
        {
          "output_type": "stream",
          "text": [
            "Displaying from R:  Set this variable in python"
          ],
          "name": "stdout"
        }
      ]
    },
    {
      "cell_type": "code",
      "metadata": {
        "colab": {
          "base_uri": "https://localhost:8080/",
          "height": 164
        },
        "id": "7HEZyg18t9EE",
        "outputId": "82848752-5c83-48bf-f17e-34635612c501"
      },
      "source": [
        "print(\"Displaying from Python: \", var_set_in_R)"
      ],
      "execution_count": 15,
      "outputs": [
        {
          "output_type": "error",
          "ename": "NameError",
          "evalue": "ignored",
          "traceback": [
            "\u001b[0;31m---------------------------------------------------------------------------\u001b[0m",
            "\u001b[0;31mNameError\u001b[0m                                 Traceback (most recent call last)",
            "\u001b[0;32m<ipython-input-15-d2fa07551bce>\u001b[0m in \u001b[0;36m<module>\u001b[0;34m()\u001b[0m\n\u001b[0;32m----> 1\u001b[0;31m \u001b[0mprint\u001b[0m\u001b[0;34m(\u001b[0m\u001b[0;34m\"Displaying from Python: \"\u001b[0m\u001b[0;34m,\u001b[0m \u001b[0mvar_set_in_R\u001b[0m\u001b[0;34m)\u001b[0m\u001b[0;34m\u001b[0m\u001b[0;34m\u001b[0m\u001b[0m\n\u001b[0m",
            "\u001b[0;31mNameError\u001b[0m: name 'var_set_in_R' is not defined"
          ]
        }
      ]
    },
    {
      "cell_type": "code",
      "metadata": {
        "id": "0CjRwDwHt_WO"
      },
      "source": [
        "%Rpull var_set_in_R"
      ],
      "execution_count": 41,
      "outputs": []
    },
    {
      "cell_type": "code",
      "metadata": {
        "colab": {
          "base_uri": "https://localhost:8080/",
          "height": 35
        },
        "id": "TkQuodSAuItP",
        "outputId": "a3f9b955-5105-4f81-a636-3371272de6a0"
      },
      "source": [
        "var_set_in_R = next(iter(var_set_in_R))\n",
        "var_set_in_R"
      ],
      "execution_count": 49,
      "outputs": [
        {
          "output_type": "execute_result",
          "data": {
            "application/vnd.google.colaboratory.intrinsic+json": {
              "type": "string"
            },
            "text/plain": [
              "'Set in variable in R'"
            ]
          },
          "metadata": {
            "tags": []
          },
          "execution_count": 49
        }
      ]
    },
    {
      "cell_type": "code",
      "metadata": {
        "id": "rVLRuUl3vBBM"
      },
      "source": [
        "import numpy as np\n",
        "\n",
        "py_list = [1,2,3]\n",
        "np_py_list = np.array([4,5,6])"
      ],
      "execution_count": 68,
      "outputs": []
    },
    {
      "cell_type": "code",
      "metadata": {
        "id": "6XxkEyjBv3_A"
      },
      "source": [
        "%Rpush py_list np_py_list"
      ],
      "execution_count": 69,
      "outputs": []
    },
    {
      "cell_type": "code",
      "metadata": {
        "colab": {
          "base_uri": "https://localhost:8080/"
        },
        "id": "tNJDrIv6v8I9",
        "outputId": "c5741517-0ea9-4f18-8439-2ce4127775ed"
      },
      "source": [
        "%%R\n",
        "print(class(py_list))\n",
        "print(class(np_py_list))\n",
        "print(py_list)\n",
        "print(np_py_list)"
      ],
      "execution_count": 71,
      "outputs": [
        {
          "output_type": "stream",
          "text": [
            "[1] \"list\"\n",
            "[1] \"array\"\n",
            "[[1]]\n",
            "[1] 1\n",
            "\n",
            "[[2]]\n",
            "[1] 2\n",
            "\n",
            "[[3]]\n",
            "[1] 3\n",
            "\n",
            "[1] 4 5 6\n"
          ],
          "name": "stdout"
        }
      ]
    },
    {
      "cell_type": "code",
      "metadata": {
        "colab": {
          "base_uri": "https://localhost:8080/"
        },
        "id": "tTcR-rViv-y7",
        "outputId": "aaeeeef7-9e03-4d4c-d019-91b872cfeb23"
      },
      "source": [
        "%%writefile sample.csv\n",
        "Name,Age\n",
        "Oly,1\n",
        "John,2"
      ],
      "execution_count": 57,
      "outputs": [
        {
          "output_type": "stream",
          "text": [
            "Writing sample.csv\n"
          ],
          "name": "stdout"
        }
      ]
    },
    {
      "cell_type": "code",
      "metadata": {
        "id": "LEGVAsQMwcWb"
      },
      "source": [
        "import pandas as pd\n",
        "df = pd.read_csv('sample.csv')"
      ],
      "execution_count": 58,
      "outputs": []
    },
    {
      "cell_type": "code",
      "metadata": {
        "id": "FTZlQvwBwk2g"
      },
      "source": [
        "%Rpush df"
      ],
      "execution_count": 59,
      "outputs": []
    },
    {
      "cell_type": "code",
      "metadata": {
        "colab": {
          "base_uri": "https://localhost:8080/"
        },
        "id": "eGIHeBnRwqzj",
        "outputId": "3c3066c1-9bc2-4125-9dee-5b50d8b67331"
      },
      "source": [
        "%%R\n",
        "df"
      ],
      "execution_count": 62,
      "outputs": [
        {
          "output_type": "stream",
          "text": [
            "  Name Age\n",
            "0  Oly   1\n",
            "1 John   2\n"
          ],
          "name": "stdout"
        }
      ]
    },
    {
      "cell_type": "code",
      "metadata": {
        "id": "I41S7R7cyPIB"
      },
      "source": [
        ""
      ],
      "execution_count": null,
      "outputs": []
    }
  ]
}