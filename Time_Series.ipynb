{
  "nbformat": 4,
  "nbformat_minor": 0,
  "metadata": {
    "colab": {
      "name": "Time Series.ipynb",
      "provenance": [],
      "authorship_tag": "ABX9TyP2n4KXPLuXms93VK2pvDbb",
      "include_colab_link": true
    },
    "kernelspec": {
      "name": "python3",
      "display_name": "Python 3"
    },
    "language_info": {
      "name": "python"
    }
  },
  "cells": [
    {
      "cell_type": "markdown",
      "metadata": {
        "id": "view-in-github",
        "colab_type": "text"
      },
      "source": [
        "<a href=\"https://colab.research.google.com/github/riabose2507/data-analysis-basics/blob/main/Time_Series.ipynb\" target=\"_parent\"><img src=\"https://colab.research.google.com/assets/colab-badge.svg\" alt=\"Open In Colab\"/></a>"
      ]
    },
    {
      "cell_type": "code",
      "metadata": {
        "id": "_5SL73_RQBeH"
      },
      "source": [
        "%load_ext google.colab.data_table"
      ],
      "execution_count": 1,
      "outputs": []
    },
    {
      "cell_type": "code",
      "metadata": {
        "id": "HyVca56OP0tp"
      },
      "source": [
        "import numpy as np\n",
        "import pandas as pd\n",
        "import matplotlib.pyplot as plt\n",
        "plt.style.use('seaborn')"
      ],
      "execution_count": 3,
      "outputs": []
    },
    {
      "cell_type": "code",
      "metadata": {
        "colab": {
          "base_uri": "https://localhost:8080/"
        },
        "id": "XRXxPBwySIFL",
        "outputId": "f09e1370-72dc-449b-9f3f-420d2c5ae6c4"
      },
      "source": [
        "%%writefile data.csv\n",
        "Name,Age,Location,DOB,Major,Marks\n",
        "Oly,28,NY,1992-07-25,CS,100\n",
        "John,34,TN,1986-07-31,Finance,65\n",
        "Aritra,25,CA,1995-10-20,CS,95\n",
        "Winnie,27,NY,1993-05-05,Comm,80"
      ],
      "execution_count": 26,
      "outputs": [
        {
          "output_type": "stream",
          "text": [
            "Writing data.csv\n"
          ],
          "name": "stdout"
        }
      ]
    },
    {
      "cell_type": "markdown",
      "metadata": {
        "id": "M7e12ISCP3y2"
      },
      "source": [
        "# pd.Timestamp & pd.Period"
      ]
    },
    {
      "cell_type": "code",
      "metadata": {
        "colab": {
          "base_uri": "https://localhost:8080/"
        },
        "id": "jLmChxAdQLe8",
        "outputId": "3f7863b4-211c-489b-a03e-942704db4a1e"
      },
      "source": [
        "timestamp = pd.Timestamp(\"2018-09-12\")\n",
        "timestamp"
      ],
      "execution_count": 4,
      "outputs": [
        {
          "output_type": "execute_result",
          "data": {
            "text/plain": [
              "Timestamp('2018-09-12 00:00:00')"
            ]
          },
          "metadata": {
            "tags": []
          },
          "execution_count": 4
        }
      ]
    },
    {
      "cell_type": "code",
      "metadata": {
        "colab": {
          "base_uri": "https://localhost:8080/"
        },
        "id": "KyeWkGzQQWKV",
        "outputId": "adaf73ff-666e-48d4-a6f4-ec0a2273e839"
      },
      "source": [
        "timestamp.year, timestamp.month, timestamp.day"
      ],
      "execution_count": 6,
      "outputs": [
        {
          "output_type": "execute_result",
          "data": {
            "text/plain": [
              "(2018, 9, 12)"
            ]
          },
          "metadata": {
            "tags": []
          },
          "execution_count": 6
        }
      ]
    },
    {
      "cell_type": "code",
      "metadata": {
        "colab": {
          "base_uri": "https://localhost:8080/"
        },
        "id": "TlQxJhHQQZS1",
        "outputId": "21f7e693-f1bf-4436-9309-12a9cf81c3e4"
      },
      "source": [
        "period1 = pd.Period('2018')\n",
        "period2 = pd.Period('2018-01')\n",
        "period3 = pd.Period('2018-01-25')\n",
        "period1, period2, period3"
      ],
      "execution_count": 9,
      "outputs": [
        {
          "output_type": "execute_result",
          "data": {
            "text/plain": [
              "(Period('2018', 'A-DEC'), Period('2018-01', 'M'), Period('2018-01-25', 'D'))"
            ]
          },
          "metadata": {
            "tags": []
          },
          "execution_count": 9
        }
      ]
    },
    {
      "cell_type": "code",
      "metadata": {
        "colab": {
          "base_uri": "https://localhost:8080/"
        },
        "id": "UIrhWW53QdZ6",
        "outputId": "2b8534b0-6aad-4be0-e2b9-68e2a6a888df"
      },
      "source": [
        "period2.asfreq('D'), period1.asfreq('M'), period1.asfreq('D'), period3.asfreq('A-JAN')"
      ],
      "execution_count": 15,
      "outputs": [
        {
          "output_type": "execute_result",
          "data": {
            "text/plain": [
              "(Period('2018-01-31', 'D'),\n",
              " Period('2018-12', 'M'),\n",
              " Period('2018-12-31', 'D'),\n",
              " Period('2018', 'A-JAN'))"
            ]
          },
          "metadata": {
            "tags": []
          },
          "execution_count": 15
        }
      ]
    },
    {
      "cell_type": "code",
      "metadata": {
        "colab": {
          "base_uri": "https://localhost:8080/"
        },
        "id": "v0sHZgVPReBz",
        "outputId": "ea2f07e3-7913-49b7-f32a-4103ab8ff5ea"
      },
      "source": [
        "period2 + 24"
      ],
      "execution_count": 20,
      "outputs": [
        {
          "output_type": "execute_result",
          "data": {
            "text/plain": [
              "Period('2020-01', 'M')"
            ]
          },
          "metadata": {
            "tags": []
          },
          "execution_count": 20
        }
      ]
    },
    {
      "cell_type": "code",
      "metadata": {
        "colab": {
          "base_uri": "https://localhost:8080/"
        },
        "id": "PlvJ-IhrRnuo",
        "outputId": "5f6e54f5-c064-4331-eaca-ca31c30e5fba"
      },
      "source": [
        "timestamp.to_period('D') + 2"
      ],
      "execution_count": 24,
      "outputs": [
        {
          "output_type": "execute_result",
          "data": {
            "text/plain": [
              "Period('2018-09-14', 'D')"
            ]
          },
          "metadata": {
            "tags": []
          },
          "execution_count": 24
        }
      ]
    },
    {
      "cell_type": "code",
      "metadata": {
        "colab": {
          "base_uri": "https://localhost:8080/"
        },
        "id": "_Dav7QYlRw9q",
        "outputId": "9f238c5d-3250-4bdc-b9bc-105b874e705c"
      },
      "source": [
        "period3.to_timestamp()"
      ],
      "execution_count": 25,
      "outputs": [
        {
          "output_type": "execute_result",
          "data": {
            "text/plain": [
              "Timestamp('2018-01-25 00:00:00')"
            ]
          },
          "metadata": {
            "tags": []
          },
          "execution_count": 25
        }
      ]
    },
    {
      "cell_type": "markdown",
      "metadata": {
        "id": "lgeYF6mxSLjq"
      },
      "source": [
        "# Convert CSV into timeseries"
      ]
    },
    {
      "cell_type": "code",
      "metadata": {
        "id": "v-w18M5sR7XL"
      },
      "source": [
        "df = pd.read_csv('data.csv')\n",
        "df_new = df.set_index('Name')"
      ],
      "execution_count": 74,
      "outputs": []
    },
    {
      "cell_type": "code",
      "metadata": {
        "colab": {
          "base_uri": "https://localhost:8080/",
          "height": 173
        },
        "id": "SYffkxvPX43G",
        "outputId": "2d26ae17-d6c0-4558-c03b-aaa248e02d45"
      },
      "source": [
        "df_new"
      ],
      "execution_count": 75,
      "outputs": [
        {
          "output_type": "execute_result",
          "data": {
            "application/vnd.google.colaboratory.module+javascript": "\n      import \"https://ssl.gstatic.com/colaboratory/data_table/a6224c040fa35dcf/data_table.js\";\n\n      window.createDataTable({\n        data: [[\"Oly\",\n{\n            'v': 28,\n            'f': \"28\",\n        },\n\"NY\",\n\"1992-07-25\",\n\"CS\",\n{\n            'v': 100,\n            'f': \"100\",\n        }],\n [\"John\",\n{\n            'v': 34,\n            'f': \"34\",\n        },\n\"TN\",\n\"1986-07-31\",\n\"Finance\",\n{\n            'v': 65,\n            'f': \"65\",\n        }],\n [\"Aritra\",\n{\n            'v': 25,\n            'f': \"25\",\n        },\n\"CA\",\n\"1995-10-20\",\n\"CS\",\n{\n            'v': 95,\n            'f': \"95\",\n        }],\n [\"Winnie\",\n{\n            'v': 27,\n            'f': \"27\",\n        },\n\"NY\",\n\"1993-05-05\",\n\"Comm\",\n{\n            'v': 80,\n            'f': \"80\",\n        }]],\n        columns: [[\"string\", \"Name\"], [\"number\", \"Age\"], [\"string\", \"Location\"], [\"string\", \"DOB\"], [\"string\", \"Major\"], [\"number\", \"Marks\"]],\n        columnOptions: [{\"width\": \"1px\", \"className\": \"index_column\"}],\n        rowsPerPage: 25,\n        helpUrl: \"https://colab.research.google.com/notebooks/data_table.ipynb\",\n        suppressOutputScrolling: true,\n        minimumWidth: undefined,\n      });\n    ",
            "text/html": [
              "<div>\n",
              "<style scoped>\n",
              "    .dataframe tbody tr th:only-of-type {\n",
              "        vertical-align: middle;\n",
              "    }\n",
              "\n",
              "    .dataframe tbody tr th {\n",
              "        vertical-align: top;\n",
              "    }\n",
              "\n",
              "    .dataframe thead th {\n",
              "        text-align: right;\n",
              "    }\n",
              "</style>\n",
              "<table border=\"1\" class=\"dataframe\">\n",
              "  <thead>\n",
              "    <tr style=\"text-align: right;\">\n",
              "      <th></th>\n",
              "      <th>Age</th>\n",
              "      <th>Location</th>\n",
              "      <th>DOB</th>\n",
              "      <th>Major</th>\n",
              "      <th>Marks</th>\n",
              "    </tr>\n",
              "    <tr>\n",
              "      <th>Name</th>\n",
              "      <th></th>\n",
              "      <th></th>\n",
              "      <th></th>\n",
              "      <th></th>\n",
              "      <th></th>\n",
              "    </tr>\n",
              "  </thead>\n",
              "  <tbody>\n",
              "    <tr>\n",
              "      <th>Oly</th>\n",
              "      <td>28</td>\n",
              "      <td>NY</td>\n",
              "      <td>1992-07-25</td>\n",
              "      <td>CS</td>\n",
              "      <td>100</td>\n",
              "    </tr>\n",
              "    <tr>\n",
              "      <th>John</th>\n",
              "      <td>34</td>\n",
              "      <td>TN</td>\n",
              "      <td>1986-07-31</td>\n",
              "      <td>Finance</td>\n",
              "      <td>65</td>\n",
              "    </tr>\n",
              "    <tr>\n",
              "      <th>Aritra</th>\n",
              "      <td>25</td>\n",
              "      <td>CA</td>\n",
              "      <td>1995-10-20</td>\n",
              "      <td>CS</td>\n",
              "      <td>95</td>\n",
              "    </tr>\n",
              "    <tr>\n",
              "      <th>Winnie</th>\n",
              "      <td>27</td>\n",
              "      <td>NY</td>\n",
              "      <td>1993-05-05</td>\n",
              "      <td>Comm</td>\n",
              "      <td>80</td>\n",
              "    </tr>\n",
              "  </tbody>\n",
              "</table>\n",
              "</div>"
            ],
            "text/plain": [
              "        Age Location         DOB    Major  Marks\n",
              "Name                                            \n",
              "Oly      28       NY  1992-07-25       CS    100\n",
              "John     34       TN  1986-07-31  Finance     65\n",
              "Aritra   25       CA  1995-10-20       CS     95\n",
              "Winnie   27       NY  1993-05-05     Comm     80"
            ]
          },
          "metadata": {
            "tags": []
          },
          "execution_count": 75
        }
      ]
    },
    {
      "cell_type": "code",
      "metadata": {
        "colab": {
          "base_uri": "https://localhost:8080/",
          "height": 152
        },
        "id": "k4XpXv9EYcB4",
        "outputId": "99910d37-274d-4748-987a-d52de12071d1"
      },
      "source": [
        "df.loc[:2,[\"Name\",\"Age\"]]"
      ],
      "execution_count": 98,
      "outputs": [
        {
          "output_type": "execute_result",
          "data": {
            "application/vnd.google.colaboratory.module+javascript": "\n      import \"https://ssl.gstatic.com/colaboratory/data_table/a6224c040fa35dcf/data_table.js\";\n\n      window.createDataTable({\n        data: [[{\n            'v': 0,\n            'f': \"0\",\n        },\n\"Oly\",\n{\n            'v': 28,\n            'f': \"28\",\n        }],\n [{\n            'v': 1,\n            'f': \"1\",\n        },\n\"John\",\n{\n            'v': 34,\n            'f': \"34\",\n        }],\n [{\n            'v': 2,\n            'f': \"2\",\n        },\n\"Aritra\",\n{\n            'v': 25,\n            'f': \"25\",\n        }]],\n        columns: [[\"number\", \"index\"], [\"string\", \"Name\"], [\"number\", \"Age\"]],\n        columnOptions: [{\"width\": \"1px\", \"className\": \"index_column\"}],\n        rowsPerPage: 25,\n        helpUrl: \"https://colab.research.google.com/notebooks/data_table.ipynb\",\n        suppressOutputScrolling: true,\n        minimumWidth: undefined,\n      });\n    ",
            "text/html": [
              "<div>\n",
              "<style scoped>\n",
              "    .dataframe tbody tr th:only-of-type {\n",
              "        vertical-align: middle;\n",
              "    }\n",
              "\n",
              "    .dataframe tbody tr th {\n",
              "        vertical-align: top;\n",
              "    }\n",
              "\n",
              "    .dataframe thead th {\n",
              "        text-align: right;\n",
              "    }\n",
              "</style>\n",
              "<table border=\"1\" class=\"dataframe\">\n",
              "  <thead>\n",
              "    <tr style=\"text-align: right;\">\n",
              "      <th></th>\n",
              "      <th>Name</th>\n",
              "      <th>Age</th>\n",
              "    </tr>\n",
              "  </thead>\n",
              "  <tbody>\n",
              "    <tr>\n",
              "      <th>0</th>\n",
              "      <td>Oly</td>\n",
              "      <td>28</td>\n",
              "    </tr>\n",
              "    <tr>\n",
              "      <th>1</th>\n",
              "      <td>John</td>\n",
              "      <td>34</td>\n",
              "    </tr>\n",
              "    <tr>\n",
              "      <th>2</th>\n",
              "      <td>Aritra</td>\n",
              "      <td>25</td>\n",
              "    </tr>\n",
              "  </tbody>\n",
              "</table>\n",
              "</div>"
            ],
            "text/plain": [
              "     Name  Age\n",
              "0     Oly   28\n",
              "1    John   34\n",
              "2  Aritra   25"
            ]
          },
          "metadata": {
            "tags": []
          },
          "execution_count": 98
        }
      ]
    },
    {
      "cell_type": "code",
      "metadata": {
        "colab": {
          "base_uri": "https://localhost:8080/",
          "height": 131
        },
        "id": "uZxn9_JXZnUS",
        "outputId": "b2fb10a8-62b1-4639-896f-5fd9c59f9758"
      },
      "source": [
        "df_new.loc[\"Oly\":\"John\",\"Age\":\"DOB\"]"
      ],
      "execution_count": 110,
      "outputs": [
        {
          "output_type": "execute_result",
          "data": {
            "application/vnd.google.colaboratory.module+javascript": "\n      import \"https://ssl.gstatic.com/colaboratory/data_table/a6224c040fa35dcf/data_table.js\";\n\n      window.createDataTable({\n        data: [[\"Oly\",\n{\n            'v': 28,\n            'f': \"28\",\n        },\n\"NY\",\n\"1992-07-25\"],\n [\"John\",\n{\n            'v': 34,\n            'f': \"34\",\n        },\n\"TN\",\n\"1986-07-31\"]],\n        columns: [[\"string\", \"Name\"], [\"number\", \"Age\"], [\"string\", \"Location\"], [\"string\", \"DOB\"]],\n        columnOptions: [{\"width\": \"1px\", \"className\": \"index_column\"}],\n        rowsPerPage: 25,\n        helpUrl: \"https://colab.research.google.com/notebooks/data_table.ipynb\",\n        suppressOutputScrolling: true,\n        minimumWidth: undefined,\n      });\n    ",
            "text/html": [
              "<div>\n",
              "<style scoped>\n",
              "    .dataframe tbody tr th:only-of-type {\n",
              "        vertical-align: middle;\n",
              "    }\n",
              "\n",
              "    .dataframe tbody tr th {\n",
              "        vertical-align: top;\n",
              "    }\n",
              "\n",
              "    .dataframe thead th {\n",
              "        text-align: right;\n",
              "    }\n",
              "</style>\n",
              "<table border=\"1\" class=\"dataframe\">\n",
              "  <thead>\n",
              "    <tr style=\"text-align: right;\">\n",
              "      <th></th>\n",
              "      <th>Age</th>\n",
              "      <th>Location</th>\n",
              "      <th>DOB</th>\n",
              "    </tr>\n",
              "    <tr>\n",
              "      <th>Name</th>\n",
              "      <th></th>\n",
              "      <th></th>\n",
              "      <th></th>\n",
              "    </tr>\n",
              "  </thead>\n",
              "  <tbody>\n",
              "    <tr>\n",
              "      <th>Oly</th>\n",
              "      <td>28</td>\n",
              "      <td>NY</td>\n",
              "      <td>1992-07-25</td>\n",
              "    </tr>\n",
              "    <tr>\n",
              "      <th>John</th>\n",
              "      <td>34</td>\n",
              "      <td>TN</td>\n",
              "      <td>1986-07-31</td>\n",
              "    </tr>\n",
              "  </tbody>\n",
              "</table>\n",
              "</div>"
            ],
            "text/plain": [
              "      Age Location         DOB\n",
              "Name                          \n",
              "Oly    28       NY  1992-07-25\n",
              "John   34       TN  1986-07-31"
            ]
          },
          "metadata": {
            "tags": []
          },
          "execution_count": 110
        }
      ]
    },
    {
      "cell_type": "code",
      "metadata": {
        "colab": {
          "base_uri": "https://localhost:8080/",
          "height": 173
        },
        "id": "uWZnFPwEStuK",
        "outputId": "5755bbad-a6b8-47c3-bd67-1f3e0b5a5b7e"
      },
      "source": [
        "df2 = pd.read_csv('data.csv', index_col='DOB', parse_dates=True)\n",
        "df2"
      ],
      "execution_count": 39,
      "outputs": [
        {
          "output_type": "execute_result",
          "data": {
            "application/vnd.google.colaboratory.module+javascript": "\n      import \"https://ssl.gstatic.com/colaboratory/data_table/a6224c040fa35dcf/data_table.js\";\n\n      window.createDataTable({\n        data: [[\"1992-07-25 00:00:00\",\n\"Oly\",\n{\n            'v': 28,\n            'f': \"28\",\n        },\n\"NY\",\n\"CS\",\n{\n            'v': 100,\n            'f': \"100\",\n        }],\n [\"1986-07-31 00:00:00\",\n\"John\",\n{\n            'v': 34,\n            'f': \"34\",\n        },\n\"TN\",\n\"Finance\",\n{\n            'v': 65,\n            'f': \"65\",\n        }],\n [\"1995-10-20 00:00:00\",\n\"Aritra\",\n{\n            'v': 25,\n            'f': \"25\",\n        },\n\"CA\",\n\"CS\",\n{\n            'v': 95,\n            'f': \"95\",\n        }],\n [\"1993-05-05 00:00:00\",\n\"Winnie\",\n{\n            'v': 27,\n            'f': \"27\",\n        },\n\"NY\",\n\"Comm\",\n{\n            'v': 80,\n            'f': \"80\",\n        }]],\n        columns: [[\"string\", \"DOB\"], [\"string\", \"Name\"], [\"number\", \"Age\"], [\"string\", \"Location\"], [\"string\", \"Major\"], [\"number\", \"Marks\"]],\n        columnOptions: [{\"width\": \"1px\", \"className\": \"index_column\"}],\n        rowsPerPage: 25,\n        helpUrl: \"https://colab.research.google.com/notebooks/data_table.ipynb\",\n        suppressOutputScrolling: true,\n        minimumWidth: undefined,\n      });\n    ",
            "text/html": [
              "<div>\n",
              "<style scoped>\n",
              "    .dataframe tbody tr th:only-of-type {\n",
              "        vertical-align: middle;\n",
              "    }\n",
              "\n",
              "    .dataframe tbody tr th {\n",
              "        vertical-align: top;\n",
              "    }\n",
              "\n",
              "    .dataframe thead th {\n",
              "        text-align: right;\n",
              "    }\n",
              "</style>\n",
              "<table border=\"1\" class=\"dataframe\">\n",
              "  <thead>\n",
              "    <tr style=\"text-align: right;\">\n",
              "      <th></th>\n",
              "      <th>Name</th>\n",
              "      <th>Age</th>\n",
              "      <th>Location</th>\n",
              "      <th>Major</th>\n",
              "      <th>Marks</th>\n",
              "    </tr>\n",
              "    <tr>\n",
              "      <th>DOB</th>\n",
              "      <th></th>\n",
              "      <th></th>\n",
              "      <th></th>\n",
              "      <th></th>\n",
              "      <th></th>\n",
              "    </tr>\n",
              "  </thead>\n",
              "  <tbody>\n",
              "    <tr>\n",
              "      <th>1992-07-25</th>\n",
              "      <td>Oly</td>\n",
              "      <td>28</td>\n",
              "      <td>NY</td>\n",
              "      <td>CS</td>\n",
              "      <td>100</td>\n",
              "    </tr>\n",
              "    <tr>\n",
              "      <th>1986-07-31</th>\n",
              "      <td>John</td>\n",
              "      <td>34</td>\n",
              "      <td>TN</td>\n",
              "      <td>Finance</td>\n",
              "      <td>65</td>\n",
              "    </tr>\n",
              "    <tr>\n",
              "      <th>1995-10-20</th>\n",
              "      <td>Aritra</td>\n",
              "      <td>25</td>\n",
              "      <td>CA</td>\n",
              "      <td>CS</td>\n",
              "      <td>95</td>\n",
              "    </tr>\n",
              "    <tr>\n",
              "      <th>1993-05-05</th>\n",
              "      <td>Winnie</td>\n",
              "      <td>27</td>\n",
              "      <td>NY</td>\n",
              "      <td>Comm</td>\n",
              "      <td>80</td>\n",
              "    </tr>\n",
              "  </tbody>\n",
              "</table>\n",
              "</div>"
            ],
            "text/plain": [
              "              Name  Age Location    Major  Marks\n",
              "DOB                                             \n",
              "1992-07-25     Oly   28       NY       CS    100\n",
              "1986-07-31    John   34       TN  Finance     65\n",
              "1995-10-20  Aritra   25       CA       CS     95\n",
              "1993-05-05  Winnie   27       NY     Comm     80"
            ]
          },
          "metadata": {
            "tags": []
          },
          "execution_count": 39
        }
      ]
    },
    {
      "cell_type": "code",
      "metadata": {
        "colab": {
          "base_uri": "https://localhost:8080/",
          "height": 131
        },
        "id": "NNpfk6qNSadY",
        "outputId": "b013cffd-4c5d-415c-bafe-bffeeb330ee8"
      },
      "source": [
        "after_1990_before_1995 = (df2.index > '1990') & (df2.index < '1995')\n",
        "df2[after_1990_before_1995]"
      ],
      "execution_count": 40,
      "outputs": [
        {
          "output_type": "execute_result",
          "data": {
            "application/vnd.google.colaboratory.module+javascript": "\n      import \"https://ssl.gstatic.com/colaboratory/data_table/a6224c040fa35dcf/data_table.js\";\n\n      window.createDataTable({\n        data: [[\"1992-07-25 00:00:00\",\n\"Oly\",\n{\n            'v': 28,\n            'f': \"28\",\n        },\n\"NY\",\n\"CS\",\n{\n            'v': 100,\n            'f': \"100\",\n        }],\n [\"1993-05-05 00:00:00\",\n\"Winnie\",\n{\n            'v': 27,\n            'f': \"27\",\n        },\n\"NY\",\n\"Comm\",\n{\n            'v': 80,\n            'f': \"80\",\n        }]],\n        columns: [[\"string\", \"DOB\"], [\"string\", \"Name\"], [\"number\", \"Age\"], [\"string\", \"Location\"], [\"string\", \"Major\"], [\"number\", \"Marks\"]],\n        columnOptions: [{\"width\": \"1px\", \"className\": \"index_column\"}],\n        rowsPerPage: 25,\n        helpUrl: \"https://colab.research.google.com/notebooks/data_table.ipynb\",\n        suppressOutputScrolling: true,\n        minimumWidth: undefined,\n      });\n    ",
            "text/html": [
              "<div>\n",
              "<style scoped>\n",
              "    .dataframe tbody tr th:only-of-type {\n",
              "        vertical-align: middle;\n",
              "    }\n",
              "\n",
              "    .dataframe tbody tr th {\n",
              "        vertical-align: top;\n",
              "    }\n",
              "\n",
              "    .dataframe thead th {\n",
              "        text-align: right;\n",
              "    }\n",
              "</style>\n",
              "<table border=\"1\" class=\"dataframe\">\n",
              "  <thead>\n",
              "    <tr style=\"text-align: right;\">\n",
              "      <th></th>\n",
              "      <th>Name</th>\n",
              "      <th>Age</th>\n",
              "      <th>Location</th>\n",
              "      <th>Major</th>\n",
              "      <th>Marks</th>\n",
              "    </tr>\n",
              "    <tr>\n",
              "      <th>DOB</th>\n",
              "      <th></th>\n",
              "      <th></th>\n",
              "      <th></th>\n",
              "      <th></th>\n",
              "      <th></th>\n",
              "    </tr>\n",
              "  </thead>\n",
              "  <tbody>\n",
              "    <tr>\n",
              "      <th>1992-07-25</th>\n",
              "      <td>Oly</td>\n",
              "      <td>28</td>\n",
              "      <td>NY</td>\n",
              "      <td>CS</td>\n",
              "      <td>100</td>\n",
              "    </tr>\n",
              "    <tr>\n",
              "      <th>1993-05-05</th>\n",
              "      <td>Winnie</td>\n",
              "      <td>27</td>\n",
              "      <td>NY</td>\n",
              "      <td>Comm</td>\n",
              "      <td>80</td>\n",
              "    </tr>\n",
              "  </tbody>\n",
              "</table>\n",
              "</div>"
            ],
            "text/plain": [
              "              Name  Age Location Major  Marks\n",
              "DOB                                          \n",
              "1992-07-25     Oly   28       NY    CS    100\n",
              "1993-05-05  Winnie   27       NY  Comm     80"
            ]
          },
          "metadata": {
            "tags": []
          },
          "execution_count": 40
        }
      ]
    },
    {
      "cell_type": "code",
      "metadata": {
        "colab": {
          "base_uri": "https://localhost:8080/"
        },
        "id": "bGHFbsunT393",
        "outputId": "01291f85-3c90-49a4-ebb7-cff16b4f7822"
      },
      "source": [
        "pd.date_range(start='2020-01-25', periods=12, freq='M')"
      ],
      "execution_count": 60,
      "outputs": [
        {
          "output_type": "execute_result",
          "data": {
            "text/plain": [
              "DatetimeIndex(['2020-01-31', '2020-02-29', '2020-03-31', '2020-04-30',\n",
              "               '2020-05-31', '2020-06-30', '2020-07-31', '2020-08-31',\n",
              "               '2020-09-30', '2020-10-31', '2020-11-30', '2020-12-31'],\n",
              "              dtype='datetime64[ns]', freq='M')"
            ]
          },
          "metadata": {
            "tags": []
          },
          "execution_count": 60
        }
      ]
    },
    {
      "cell_type": "code",
      "metadata": {
        "colab": {
          "base_uri": "https://localhost:8080/"
        },
        "id": "QRLRRMsTVats",
        "outputId": "6d75127e-feab-47e5-9081-fb429999c024"
      },
      "source": [
        "df2.index.to_period('D')"
      ],
      "execution_count": 62,
      "outputs": [
        {
          "output_type": "execute_result",
          "data": {
            "text/plain": [
              "PeriodIndex(['1992-07-25', '1986-07-31', '1995-10-20', '1993-05-05'], dtype='period[D]', name='DOB', freq='D')"
            ]
          },
          "metadata": {
            "tags": []
          },
          "execution_count": 62
        }
      ]
    },
    {
      "cell_type": "code",
      "metadata": {
        "colab": {
          "base_uri": "https://localhost:8080/"
        },
        "id": "Crad4LDcV9uW",
        "outputId": "577c3ce2-bbc0-4ce6-dbd7-62ef43567d6a"
      },
      "source": [
        "np.random.random(size=(12,2))"
      ],
      "execution_count": 64,
      "outputs": [
        {
          "output_type": "execute_result",
          "data": {
            "text/plain": [
              "array([[0.3882566 , 0.82642439],\n",
              "       [0.19961964, 0.4097791 ],\n",
              "       [0.98832955, 0.03557555],\n",
              "       [0.93655194, 0.82770333],\n",
              "       [0.13897377, 0.5216861 ],\n",
              "       [0.62738778, 0.54783747],\n",
              "       [0.79063867, 0.60084439],\n",
              "       [0.42415165, 0.5852646 ],\n",
              "       [0.01012062, 0.22551198],\n",
              "       [0.16641194, 0.20555952],\n",
              "       [0.6258461 , 0.08940557],\n",
              "       [0.18470546, 0.96874524]])"
            ]
          },
          "metadata": {
            "tags": []
          },
          "execution_count": 64
        }
      ]
    },
    {
      "cell_type": "code",
      "metadata": {
        "id": "6J9i7WkFWPAs"
      },
      "source": [
        ""
      ],
      "execution_count": null,
      "outputs": []
    }
  ]
}